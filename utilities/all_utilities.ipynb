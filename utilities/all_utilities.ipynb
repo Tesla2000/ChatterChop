{
 "cells": [
  {
   "cell_type": "markdown",
   "metadata": {},
   "source": [
    "install libraries"
   ]
  },
  {
   "cell_type": "code",
   "execution_count": 1,
   "metadata": {},
   "outputs": [
    {
     "name": "stderr",
     "output_type": "stream",
     "text": [
      "d:\\ChatterChop\\.venv\\lib\\site-packages\\whisper\\timing.py:58: NumbaDeprecationWarning: \u001b[1mThe 'nopython' keyword argument was not supplied to the 'numba.jit' decorator. The implicit default value for this argument is currently False, but it will be changed to True in Numba 0.59.0. See https://numba.readthedocs.io/en/stable/reference/deprecation.html#deprecation-of-object-mode-fall-back-behaviour-when-using-jit for details.\u001b[0m\n",
      "  def backtrace(trace: np.ndarray):\n",
      "d:\\ChatterChop\\.venv\\lib\\site-packages\\tqdm\\auto.py:21: TqdmWarning: IProgress not found. Please update jupyter and ipywidgets. See https://ipywidgets.readthedocs.io/en/stable/user_install.html\n",
      "  from .autonotebook import tqdm as notebook_tqdm\n"
     ]
    }
   ],
   "source": [
    "import whisper\n",
    "import os\n",
    "\n",
    "from evaluate import load\n",
    "import audiosegment"
   ]
  },
  {
   "cell_type": "markdown",
   "metadata": {},
   "source": [
    "audio transcription"
   ]
  },
  {
   "cell_type": "code",
   "execution_count": 31,
   "metadata": {},
   "outputs": [],
   "source": [
    "def transcription(path_to_audio_file, path_to_transcription_file, model_name='small', language='pl'):\n",
    "\n",
    "    model = whisper.load_model(model_name)\n",
    "    result = model.transcribe(path_to_audio_file, language=language)\n",
    "\n",
    "    with open(path_to_transcription_file, \"a\", encoding=\"utf-8\") as file_txt:\n",
    "        file_txt.write(f\"{result['text']}\\n\")"
   ]
  },
  {
   "cell_type": "markdown",
   "metadata": {},
   "source": [
    "test transcription"
   ]
  },
  {
   "cell_type": "code",
   "execution_count": 8,
   "metadata": {},
   "outputs": [],
   "source": [
    "audio_relative_path = os.path.join(\"..\", \"test_data\", \"test_audio_pl.wav\")\n",
    "transcription_relative_path = os.path.join(\"..\", \"test_data\", \"test_transcription.txt\")"
   ]
  },
  {
   "cell_type": "code",
   "execution_count": null,
   "metadata": {},
   "outputs": [],
   "source": [
    "transcription(audio_relative_path, transcription_relative_path)"
   ]
  },
  {
   "cell_type": "markdown",
   "metadata": {},
   "source": [
    "Transcription metrics"
   ]
  },
  {
   "cell_type": "code",
   "execution_count": 6,
   "metadata": {},
   "outputs": [],
   "source": [
    "ground_truth = os.path.join(\"..\", \"test_data\", \"test_transcription_ground_truth.txt\")\n",
    "transcription_to_test = os.path.join(\"..\", \"test_data\", \"test_transcription.txt\")"
   ]
  },
  {
   "cell_type": "code",
   "execution_count": 43,
   "metadata": {},
   "outputs": [],
   "source": [
    "def txt_into_list(file_path):\n",
    "    try:\n",
    "        with open(file_path, 'r', encoding='utf-8') as file:\n",
    "            text = file.read()\n",
    "            text = text.strip()\n",
    "            text = ''.join(char.lower() if char.isalnum() or char.isspace() else ' ' for char in text)\n",
    "            one_long_sentence = ' '.join(text.split())\n",
    "            sentence_list = [one_long_sentence]\n",
    "            return sentence_list\n",
    "    except FileNotFoundError:\n",
    "        print(f\"File not found: {file_path}\")\n",
    "        return []"
   ]
  },
  {
   "cell_type": "code",
   "execution_count": 44,
   "metadata": {},
   "outputs": [],
   "source": [
    "list_transcription_to_test = txt_into_list(transcription_to_test)\n",
    "list_ground_truth = txt_into_list(ground_truth)"
   ]
  },
  {
   "cell_type": "code",
   "execution_count": 45,
   "metadata": {},
   "outputs": [
    {
     "name": "stdout",
     "output_type": "stream",
     "text": [
      "['warszawa jest miastem pełnym sprzeczności przez wielu nazywanym niezniszczalnym miasto to wzbudza zachwyt prowokuje i inspiruje panującą w nim atmosferę o magicznym duchu nieistniejących już miejsc tworząc unikalne zestawienie zabytkowych budynków z nowoczesną miejską architekturą a przykładem niezwykłej niezłomności stolicy jest jej stare miasto warszawa jest miastem pełnym sprzeczności przez wielu nazywanym niezniszczalnym']\n",
      "['warszawa jest miastem pełnym sprzeczności przez wielu nazywanym niezniszczalnym miasto to wzbudza zachwyt prowokuje i inspiruje panującą w nim atmosferą o magicznym duchu nieistniejących już miejsc tworząc unikalne zestawienie zabytkowych budynków z nowoczesną miejską architekturą a przykładem niezwykłej niezłomności stolicy jest jej stare miasto warszawa jest miastem pełnym sprzeczności przez wielu nazywanym niezniszczalnym']\n"
     ]
    }
   ],
   "source": [
    "print(list_transcription_to_test)\n",
    "print(list_ground_truth)"
   ]
  },
  {
   "cell_type": "code",
   "execution_count": 46,
   "metadata": {},
   "outputs": [
    {
     "name": "stdout",
     "output_type": "stream",
     "text": [
      "0.018867924528301886\n"
     ]
    }
   ],
   "source": [
    "wer = load('wer')\n",
    "wer_score = wer.compute(predictions=list_transcription_to_test, references=list_ground_truth)\n",
    "print(wer_score)"
   ]
  },
  {
   "cell_type": "code",
   "execution_count": 48,
   "metadata": {},
   "outputs": [
    {
     "name": "stdout",
     "output_type": "stream",
     "text": [
      "0.002336448598130841\n"
     ]
    }
   ],
   "source": [
    "cer = load(\"cer\")\n",
    "cer_score = cer.compute(predictions=list_transcription_to_test, references=list_ground_truth)\n",
    "print(cer_score)"
   ]
  },
  {
   "cell_type": "code",
   "execution_count": 66,
   "metadata": {},
   "outputs": [],
   "source": [
    "def write_words_to_file(sentence, output_file_path):\n",
    "    try:\n",
    "        if len(sentence) == 1:\n",
    "            words = sentence[0].split()\n",
    "            with open(output_file_path, 'w', encoding='utf-8') as output_file:\n",
    "                for word in words:\n",
    "                    output_file.write(word + '\\n')\n",
    "        else:\n",
    "            print(\"Invalid input. The 'sentence' parameter should be a list containing one long string.\")\n",
    "    except Exception as e:\n",
    "        print(f\"Error writing to file: {str(e)}\")"
   ]
  },
  {
   "cell_type": "code",
   "execution_count": 67,
   "metadata": {},
   "outputs": [],
   "source": [
    "splitted_words = os.path.join(\"..\", \"test_data\", \"word_by_word.txt\")\n",
    "write_words_to_file(list_ground_truth, splitted_words)"
   ]
  },
  {
   "cell_type": "markdown",
   "metadata": {},
   "source": [
    "Perform VAD"
   ]
  },
  {
   "cell_type": "code",
   "execution_count": 11,
   "metadata": {},
   "outputs": [],
   "source": [
    "def vad(audio_path):\n",
    "    audio = audiosegment.from_file(audio_path)\n",
    "    speech_segments = []\n",
    "\n",
    "    # Define the silence audio segment here\n",
    "    # Make sure it's of type audiosegment\n",
    "    silence = audiosegment.empty()\n",
    "\n",
    "    for segment in audio:\n",
    "        # Check if the segment's dBFS is higher than silence's dBFS\n",
    "        if segment.dBFS > silence.dBFS:\n",
    "            current_segment.append(segment)\n",
    "        else:\n",
    "            if current_segment:\n",
    "                speech_segments.append(audiosegment.from_mono_audiosegments(*current_segment))\n",
    "                current_segment = []\n",
    "\n",
    "    return speech_segments"
   ]
  },
  {
   "cell_type": "markdown",
   "metadata": {},
   "source": [
    "Split the Audio"
   ]
  },
  {
   "cell_type": "code",
   "execution_count": 4,
   "metadata": {},
   "outputs": [],
   "source": [
    "def split_audio(audio_path, transcription):\n",
    "    if not transcription:\n",
    "        return\n",
    "\n",
    "    audio = audiosegment.from_file(audio_path)\n",
    "    word_segments = []\n",
    "\n",
    "    for result in transcription.get(\"alternative\", []):\n",
    "        transcript = result.get(\"transcript\", \"\")\n",
    "        if transcript:\n",
    "            for word_info in result.get(\"words\", []):\n",
    "                start_time = float(word_info.get(\"start\", 0))\n",
    "                end_time = float(word_info.get(\"end\", 0))\n",
    "                word_audio = audio[start_time * 1000:end_time * 1000]\n",
    "                word_segments.append(word_audio)\n",
    "\n",
    "    return word_segments"
   ]
  },
  {
   "cell_type": "code",
   "execution_count": 12,
   "metadata": {},
   "outputs": [
    {
     "ename": "UnboundLocalError",
     "evalue": "local variable 'current_segment' referenced before assignment",
     "output_type": "error",
     "traceback": [
      "\u001b[1;31m---------------------------------------------------------------------------\u001b[0m",
      "\u001b[1;31mUnboundLocalError\u001b[0m                         Traceback (most recent call last)",
      "Cell \u001b[1;32mIn[12], line 4\u001b[0m\n\u001b[0;32m      1\u001b[0m audio_path \u001b[39m=\u001b[39m audio_relative_path\n\u001b[0;32m      2\u001b[0m splitted_words \u001b[39m=\u001b[39m os\u001b[39m.\u001b[39mpath\u001b[39m.\u001b[39mjoin(\u001b[39m\"\u001b[39m\u001b[39m..\u001b[39m\u001b[39m\"\u001b[39m, \u001b[39m\"\u001b[39m\u001b[39mtest_data\u001b[39m\u001b[39m\"\u001b[39m, \u001b[39m\"\u001b[39m\u001b[39mword_by_word.txt\u001b[39m\u001b[39m\"\u001b[39m)\n\u001b[1;32m----> 4\u001b[0m speech_segments \u001b[39m=\u001b[39m vad(audio_path)\n\u001b[0;32m      5\u001b[0m word_audio_segments \u001b[39m=\u001b[39m split_audio(audio_path, splitted_words)\n\u001b[0;32m      7\u001b[0m \u001b[39m# Save the word audio segments as individual files or process as needed\u001b[39;00m\n",
      "Cell \u001b[1;32mIn[11], line 12\u001b[0m, in \u001b[0;36mvad\u001b[1;34m(audio_path)\u001b[0m\n\u001b[0;32m      9\u001b[0m \u001b[39mfor\u001b[39;00m segment \u001b[39min\u001b[39;00m audio:\n\u001b[0;32m     10\u001b[0m     \u001b[39m# Check if the segment's dBFS is higher than silence's dBFS\u001b[39;00m\n\u001b[0;32m     11\u001b[0m     \u001b[39mif\u001b[39;00m segment\u001b[39m.\u001b[39mdBFS \u001b[39m>\u001b[39m silence\u001b[39m.\u001b[39mdBFS:\n\u001b[1;32m---> 12\u001b[0m         current_segment\u001b[39m.\u001b[39mappend(segment)\n\u001b[0;32m     13\u001b[0m     \u001b[39melse\u001b[39;00m:\n\u001b[0;32m     14\u001b[0m         \u001b[39mif\u001b[39;00m current_segment:\n",
      "\u001b[1;31mUnboundLocalError\u001b[0m: local variable 'current_segment' referenced before assignment"
     ]
    }
   ],
   "source": [
    "audio_path = os.path.join(\"..\", \"test_data\", \"test_audio_pl.wav\")\n",
    "splitted_words = os.path.join(\"..\", \"test_data\", \"word_by_word.txt\")\n",
    "\n",
    "speech_segments = vad(audio_path)\n",
    "word_audio_segments = split_audio(audio_path, splitted_words)\n",
    "\n",
    "# Save the word audio segments as individual files or process as needed\n",
    "for i, segment in enumerate(word_audio_segments):\n",
    "    segment.export(f\"word_{i}.wav\", format=\"wav\")"
   ]
  },
  {
   "cell_type": "code",
   "execution_count": null,
   "metadata": {},
   "outputs": [],
   "source": []
  }
 ],
 "metadata": {
  "kernelspec": {
   "display_name": ".venv",
   "language": "python",
   "name": "python3"
  },
  "language_info": {
   "codemirror_mode": {
    "name": "ipython",
    "version": 3
   },
   "file_extension": ".py",
   "mimetype": "text/x-python",
   "name": "python",
   "nbconvert_exporter": "python",
   "pygments_lexer": "ipython3",
   "version": "3.9.10"
  },
  "orig_nbformat": 4
 },
 "nbformat": 4,
 "nbformat_minor": 2
}
